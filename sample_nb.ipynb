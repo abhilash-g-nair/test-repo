{
 "cells": [
  {
   "cell_type": "markdown",
   "id": "3b213697-6804-4de9-a646-ce1af0ab408b",
   "metadata": {},
   "source": [
    "This is how to calculate `1 + 1`"
   ]
  },
  {
   "cell_type": "code",
   "execution_count": 1,
   "id": "06bbfc30-27e2-4f1f-85de-857412a1ed6f",
   "metadata": {},
   "outputs": [
    {
     "data": {
      "text/plain": [
       "2"
      ]
     },
     "execution_count": 1,
     "metadata": {},
     "output_type": "execute_result"
    }
   ],
   "source": [
    "1 + 1"
   ]
  },
  {
   "cell_type": "markdown",
   "id": "7704dac6-5898-4df8-b349-548180643c45",
   "metadata": {},
   "source": [
    "This is how to calulate the _absolute_ value of a number"
   ]
  },
  {
   "cell_type": "code",
   "execution_count": 2,
   "id": "0c0e6d7a-b90b-49c9-92c4-26dc25d986ff",
   "metadata": {},
   "outputs": [
    {
     "data": {
      "text/plain": [
       "78"
      ]
     },
     "execution_count": 2,
     "metadata": {},
     "output_type": "execute_result"
    }
   ],
   "source": [
    "abs(-78)"
   ]
  }
 ],
 "metadata": {
  "kernelspec": {
   "display_name": "Python 3 (ipykernel)",
   "language": "python",
   "name": "python3"
  },
  "language_info": {
   "codemirror_mode": {
    "name": "ipython",
    "version": 3
   },
   "file_extension": ".py",
   "mimetype": "text/x-python",
   "name": "python",
   "nbconvert_exporter": "python",
   "pygments_lexer": "ipython3",
   "version": "3.10.6"
  }
 },
 "nbformat": 4,
 "nbformat_minor": 5
}
